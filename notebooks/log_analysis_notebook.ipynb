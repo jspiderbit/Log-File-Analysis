{
 "cells": [
  {
   "cell_type": "code",
   "execution_count": 0,
   "metadata": {
    "application/vnd.databricks.v1+cell": {
     "cellMetadata": {
      "byteLimit": 2048000,
      "rowLimit": 10000
     },
     "inputWidgets": {},
     "nuid": "25d33ef0-2729-4010-b1cd-daccf7e0e4d1",
     "showTitle": false,
     "tableResultSettingsMap": {},
     "title": ""
    }
   },
   "outputs": [
    {
     "output_type": "stream",
     "name": "stdout",
     "output_type": "stream",
     "text": [
      "root\n |-- log_level: string (nullable = true)\n |-- message: string (nullable = true)\n |-- server_id: string (nullable = true)\n |-- timestamp: string (nullable = true)\n\n"
     ]
    }
   ],
   "source": [
    "from pyspark.sql import SparkSession\n",
    "from pyspark.sql.functions import to_date, current_date, date_sub, col\n",
    "import pandas as pd\n",
    "\n",
    "spark = SparkSession.builder.appName(\"Log File Analysis\").master(\"local[*]\").getOrCreate()\n",
    "\n",
    "file_path = \"/FileStore/tables/sample_logs.json\"  \n",
    "df = spark.read.option(\"multiline\", \"True\").json(file_path)\n",
    "\n",
    "df.printSchema()"
   ]
  },
  {
   "cell_type": "code",
   "execution_count": 0,
   "metadata": {
    "application/vnd.databricks.v1+cell": {
     "cellMetadata": {
      "byteLimit": 2048000,
      "rowLimit": 10000
     },
     "inputWidgets": {},
     "nuid": "3f70a541-4bba-4f48-a065-c6554834d971",
     "showTitle": false,
     "tableResultSettingsMap": {},
     "title": ""
    }
   },
   "outputs": [],
   "source": [
    "df = df.withColumn(\"timestamp\", to_date(\"timestamp\"))\n",
    "\n",
    "df_last_week = df.filter(col(\"timestamp\") >= date_sub(current_date(), 7))"
   ]
  },
  {
   "cell_type": "code",
   "execution_count": 0,
   "metadata": {
    "application/vnd.databricks.v1+cell": {
     "cellMetadata": {
      "byteLimit": 2048000,
      "rowLimit": 10000
     },
     "inputWidgets": {},
     "nuid": "5f15be74-c1e4-4273-b65b-642ca3dd5fc1",
     "showTitle": false,
     "tableResultSettingsMap": {},
     "title": ""
    }
   },
   "outputs": [
    {
     "output_type": "stream",
     "name": "stdout",
     "output_type": "stream",
     "text": [
      "\nTop 3 servers with the most ERROR logs in the last 7 days:\n   server_id  count\n8  Server_05    185\n1  Server_12    182\n2  Server_04    174\n"
     ]
    }
   ],
   "source": [
    "# Task 1: Top 3 servers with the highest number of ERROR logs in the last 7 days\n",
    "df_error_logs = df_last_week.filter(col(\"log_level\") == \"ERROR\")\n",
    "df_error_logs_grouped = df_error_logs.groupBy(\"server_id\").count()\n",
    "\n",
    "df_error_logs_grouped_pd = df_error_logs_grouped.toPandas()\n",
    "top_3_servers = df_error_logs_grouped_pd.nlargest(3, 'count')\n",
    "\n",
    "print(\"\\nTop 3 servers with the most ERROR logs in the last 7 days:\")\n",
    "print(top_3_servers)"
   ]
  },
  {
   "cell_type": "code",
   "execution_count": 0,
   "metadata": {
    "application/vnd.databricks.v1+cell": {
     "cellMetadata": {
      "byteLimit": 2048000,
      "rowLimit": 10000
     },
     "inputWidgets": {},
     "nuid": "88fff200-a836-4861-87f6-cc889b6492ea",
     "showTitle": false,
     "tableResultSettingsMap": {},
     "title": ""
    }
   },
   "outputs": [
    {
     "output_type": "stream",
     "name": "stdout",
     "output_type": "stream",
     "text": [
      "\nAverage number of logs generated per day by each server over the past week:\n    server_id  avg_logs_per_day\n0   Server_01            113.50\n1   Server_02            115.25\n2   Server_03            111.00\n3   Server_04            116.50\n4   Server_05            132.25\n5   Server_06            119.75\n6   Server_07            117.00\n7   Server_08            111.00\n8   Server_09            121.75\n9   Server_10            122.50\n10  Server_11            110.25\n11  Server_12            121.00\n12  Server_13            117.25\n13  Server_14            105.75\n14  Server_15            111.25\n15  Server_16            109.00\n16  Server_17            118.75\n17  Server_18            114.25\n18  Server_19            123.00\n19  Server_20            112.25\n"
     ]
    }
   ],
   "source": [
    "# Task 2: Calculate the average number of logs generated per day by each server\n",
    "df_logs_per_day = df_last_week.groupBy(\"server_id\", \"timestamp\").count()\n",
    "\n",
    "df_logs_per_day_pd = df_logs_per_day.toPandas()\n",
    "\n",
    "avg_logs_per_day = df_logs_per_day_pd.groupby('server_id')['count'].mean().reset_index(name='avg_logs_per_day')\n",
    "\n",
    "print(\"\\nAverage number of logs generated per day by each server over the past week:\")\n",
    "print(avg_logs_per_day)"
   ]
  },
  {
   "cell_type": "code",
   "execution_count": 0,
   "metadata": {
    "application/vnd.databricks.v1+cell": {
     "cellMetadata": {
      "byteLimit": 2048000,
      "rowLimit": 10000
     },
     "inputWidgets": {},
     "nuid": "168a0de5-eeaf-480b-9c8e-e90528e1d9b9",
     "showTitle": false,
     "tableResultSettingsMap": {},
     "title": ""
    }
   },
   "outputs": [
    {
     "output_type": "stream",
     "name": "stdout",
     "output_type": "stream",
     "text": [
      "\nMost common log messages for each severity level:\n  log_level                        message  count\n1      WARN     Memory usage exceeded 80%.   1068\n4     ERROR            Disk write failure.    638\n9      INFO  System maintenance completed.    775\n"
     ]
    }
   ],
   "source": [
    "# Task 3: Provide a summary of the most common log messages for each severity level (INFO, WARN, ERROR)\n",
    "df_log_summary = df_last_week.groupBy(\"log_level\", \"message\").count()\n",
    "\n",
    "df_log_summary_pd = df_log_summary.toPandas()\n",
    "\n",
    "df_log_summary_pd['rank'] = df_log_summary_pd.groupby('log_level')['count'].rank(method='first', ascending=False)\n",
    "\n",
    "top_messages = df_log_summary_pd[df_log_summary_pd['rank'] == 1][['log_level', 'message', 'count']]\n",
    "\n",
    "print(\"\\nMost common log messages for each severity level:\")\n",
    "print(top_messages)"
   ]
  }
 ],
 "metadata": {
  "application/vnd.databricks.v1+notebook": {
   "computePreferences": null,
   "dashboards": [],
   "environmentMetadata": {
    "base_environment": "",
    "client": "1"
   },
   "language": "python",
   "notebookMetadata": {
    "pythonIndentUnit": 4
   },
   "notebookName": "Untitled Notebook 2024-12-16 23:53:47",
   "widgets": {}
  }
 },
 "nbformat": 4,
 "nbformat_minor": 0
}
